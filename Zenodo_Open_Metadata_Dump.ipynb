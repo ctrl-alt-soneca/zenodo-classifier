{
 "cells": [
  {
   "cell_type": "code",
   "execution_count": null,
   "metadata": {},
   "outputs": [],
   "source": [
    "from zenodo.wsgi import application as app\n",
    "from invenio_db import db\n",
    "# Push the Flask app context on the stack\n",
    "app.app_context().push()\n",
    "from pprint import pprint as pp"
   ]
  },
  {
   "cell_type": "code",
   "execution_count": null,
   "metadata": {},
   "outputs": [],
   "source": [
    "from invenio_pidstore.models import PersistentIdentifier\n",
    "from invenio_records.models import RecordMetadata\n",
    "from sqlalchemy.orm import join, mapper, query\n",
    "from invenio_records.api import Record\n",
    "from itertools import takewhile, groupby\n",
    "from collections import namedtuple, Counter\n",
    "import json"
   ]
  },
  {
   "cell_type": "code",
   "execution_count": null,
   "metadata": {},
   "outputs": [],
   "source": [
    "def parse_record(rec, spam=False):\n",
    "    \n",
    "    def fetch_key(key, clean_emails=True):\n",
    "        out = rec[key] if key in rec else None\n",
    "        return out\n",
    "    \n",
    "    def key_resolve(*delims):\n",
    "        obj = rec\n",
    "        for d in delims:\n",
    "            try:\n",
    "                obj = obj[d]\n",
    "            except Exception:\n",
    "                return False, None\n",
    "        return True, obj\n",
    "    \n",
    "    out = {}\n",
    "        \n",
    "    # Fetch files\n",
    "    out['files'] = []\n",
    "    if '_files' in rec:\n",
    "        for f in rec['_files']:\n",
    "            f_json = {\n",
    "                'filename': f['key'],\n",
    "                'filetype': f['type'],\n",
    "                'size': f['size'],\n",
    "            }\n",
    "            \n",
    "            out['files'].append(f_json)\n",
    "    \n",
    "    # Fetch the fixed keys\n",
    "    out['recid'] = rec['recid']  # Recid has to be there\n",
    "    out['license'] = rec['license']['$ref'].split('licenses/')[1] if 'license' in rec else None\n",
    "    keys = ['access_right', 'creators', 'title', 'description', 'communities', 'publication_date', 'keywords', 'subjects', 'notes',\n",
    "            'resource_type', 'related_identifiers', 'contributors', 'doi', 'journal', 'alternate_identifiers',\n",
    "            'imprint', 'references', 'thesis', 'meeting', 'part_of',]\n",
    "    for key in keys:\n",
    "        out[key] = fetch_key(key)\n",
    "        \n",
    "    # Insert the spam label\n",
    "    out['spam'] = spam\n",
    "    def change_key(k, v, obj):\n",
    "        obj[k] = v\n",
    "        return obj\n",
    "    \n",
    "    return out"
   ]
  },
  {
   "cell_type": "code",
   "execution_count": null,
   "metadata": {},
   "outputs": [],
   "source": [
    "rms_good = db.session.query(RecordMetadata).join(\n",
    "    PersistentIdentifier,\n",
    "    PersistentIdentifier.object_uuid == RecordMetadata.id).filter(\n",
    "        PersistentIdentifier.pid_type=='recid', \n",
    "        PersistentIdentifier.status=='R', \n",
    "        PersistentIdentifier.object_type=='rec')\n",
    "print(rms_good.count())"
   ]
  },
  {
   "cell_type": "code",
   "execution_count": null,
   "metadata": {},
   "outputs": [],
   "source": [
    "rms_bad = db.session.query(RecordMetadata).join(\n",
    "    PersistentIdentifier,\n",
    "    PersistentIdentifier.object_uuid == RecordMetadata.id).filter(\n",
    "        PersistentIdentifier.pid_type=='recid', \n",
    "        PersistentIdentifier.status=='D', \n",
    "        PersistentIdentifier.object_type=='rec')\n",
    "print(rms_bad.count())"
   ]
  },
  {
   "cell_type": "code",
   "execution_count": null,
   "metadata": {},
   "outputs": [],
   "source": [
    "nonspam_records = [Record(r.json, model=r) for r in rms_good if r.json is not None and r.json['access_right'] == 'open']\n",
    "print(len(nonspam_records))"
   ]
  },
  {
   "cell_type": "code",
   "execution_count": null,
   "metadata": {},
   "outputs": [],
   "source": [
    "spam_records = [Record(r.json, model=r).revisions[-2] for r in rms_bad if r.json is not None and 'removal_reason' in r.json and 'spam' in r.json['removal_reason'].lower()]\n",
    "spam_records = [r for r in spam_records if r['access_right'] == 'open']\n",
    "print(len(spam_records))"
   ]
  },
  {
   "cell_type": "code",
   "execution_count": null,
   "metadata": {},
   "outputs": [],
   "source": [
    "spam_records_clean = [parse_record(r, spam=True) for r in spam_records]\n",
    "print(len(spam_records_clean))"
   ]
  },
  {
   "cell_type": "code",
   "execution_count": null,
   "metadata": {},
   "outputs": [],
   "source": [
    "nonspam_records_clean = [parse_record(r, spam=False) for r in nonspam_records]\n",
    "print(len(nonspam_records_clean))"
   ]
  },
  {
   "cell_type": "code",
   "execution_count": null,
   "metadata": {},
   "outputs": [],
   "source": [
    "with open('spam_records.json', 'w') as fp:\n",
    "    json.dump(spam_records_clean, fp, indent=2)"
   ]
  },
  {
   "cell_type": "code",
   "execution_count": null,
   "metadata": {
    "collapsed": true
   },
   "outputs": [],
   "source": [
    "with open('nonspam_records.json', 'w') as fp:\n",
    "    json.dump(nonspam_records_clean, fp, indent=2)"
   ]
  },
  {
   "cell_type": "code",
   "execution_count": null,
   "metadata": {
    "collapsed": true
   },
   "outputs": [],
   "source": [
    "with open('zenodo_open_metadata_06_04_2017.json', 'w') as fp:\n",
    "    json.dump(nonspam_records_clean + spam_records_clean, fp, indent=2)"
   ]
  },
  {
   "cell_type": "code",
   "execution_count": null,
   "metadata": {
    "collapsed": true
   },
   "outputs": [],
   "source": [
    "with open('zenodo_open_metadata_06_04_2017_sample.json', 'w') as fp:\n",
    "    json.dump(nonspam_records_clean[:1] + spam_records_clean[:1], fp, indent=2)"
   ]
  }
 ],
 "metadata": {
  "kernelspec": {
   "display_name": "Zenodo",
   "language": "python",
   "name": "zenodo"
  },
  "language_info": {
   "codemirror_mode": {
    "name": "ipython",
    "version": 3
   },
   "file_extension": ".py",
   "mimetype": "text/x-python",
   "name": "python",
   "nbconvert_exporter": "python",
   "pygments_lexer": "ipython3",
   "version": "3.5.3"
  }
 },
 "nbformat": 4,
 "nbformat_minor": 1
}
