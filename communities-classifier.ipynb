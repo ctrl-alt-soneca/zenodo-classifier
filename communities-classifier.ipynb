{
 "cells": [
  {
   "cell_type": "code",
   "execution_count": 1,
   "metadata": {
    "collapsed": true
   },
   "outputs": [],
   "source": [
    "import json\n",
    "import sklearn\n",
    "import requests\n",
    "from sklearn.model_selection import train_test_split\n",
    "from collections import Counter\n",
    "from sklearn.feature_extraction.text import TfidfTransformer\n",
    "from sklearn.pipeline import Pipeline\n",
    "from sklearn.feature_extraction.text import CountVectorizer\n",
    "from sklearn.preprocessing import FunctionTransformer\n",
    "from sklearn.linear_model import SGDClassifier\n",
    "from sklearn.naive_bayes import MultinomialNB\n",
    "from sklearn import metrics\n",
    "from sklearn.metrics import make_scorer\n",
    "from sklearn.model_selection import GridSearchCV"
   ]
  },
  {
   "cell_type": "code",
   "execution_count": 2,
   "metadata": {
    "collapsed": true
   },
   "outputs": [],
   "source": [
    "with open(\"./comms.json\", \"r\") as fp:\n",
    "    data = json.load(fp)"
   ]
  },
  {
   "cell_type": "code",
   "execution_count": 415,
   "metadata": {
    "collapsed": true
   },
   "outputs": [],
   "source": [
    "spam = ['lybinh', 'tieutieuhiep480549',]\n",
    "spam += ['agenpoker', '250398f', '243823r', 'sarana118sundulclub', 'judiqq', 'sarana99', 'bandarjudi1', '004', 'wiknikhtc', 'bolaqiuqiu1', 'agenpokerdomino', 'klikbet', 'sahabatqq', 'review', 'bandarkita', 'depoqq-net-agen-bandarq-domino-qiu-qiu', 'danaqq-com-situs-bandarq-domino-qq-bandarq-online-domino-99-dominoqq-domino99-online-indonesia', '175', 'agen', 'gokkenopgokkasten', 'sarana118seokontes', 'lenterapoker1', '089', 'wargapoker', '009', 'sarana118seo', 'sahabatqq123', 'kemilauqq1', '23456', 'agen-bandarq-dominoqq-domino-99-capsa-online-bola-casino-togel-terpercaya', '124', 'sbohouse', 'sarana', '0001', '118', 'sarana118888', 'togel', 'klikbets-net-betting-bola-judi-bola-judi-poker-online-casino-online-togel-online-bandar-q', 'bolaqiuqiu-com-agen-bola-agen-casino-agen-euro-agen-piala-dunia-dan-bandar-togel-aman-dan-terpercaya', 'tieutieuhiep480549', 'one-best-online-slot-game-guides-to-success', 'centralqq1', 'slot-games-free-spins', 'sayangseo-13', 'domino999', 'kontesseosahabatqq', 'icmbet', 'bandar-asia', 'langitqq1', 'rctiqqq', 'arenabola', 'sarana118', 'klikbets', 'sarana9999', 'rajapoker888', '5531', 'sboqq-io', 'jadwalqq-com', 'situsdomino99', 'lapakqq-online', 'maxbet3388', 'seniqqq', 'bolaqiuqiuu', 'sejarahqqq', 'trochoicacuoc288', 'vipqiuqiu9999', 'agensbobetsarana118', '250398', 'borneopoker-com', 'capsabandarqseomantaps', 'qiuqiu99999', 'google', 'gunungpokerr', 'nhacaichauaqq101', 'situstogelterbesar', 'klikbetss', 'pagesarana1182', 'kontesseosarana118', '1991', 'sarana118agen', 'judibola', 'bolaqiuqiumania', 'bolaqiuqiuseo', 'bolaqiuqiu-com-agen-bola-casino-euro-piala-dunia-bandar-togel-aman-dan-terpercaya-di-indonesia', 'sayangseo12', 'klikbets-1', 'bolaqiuqiu-com', 'agencasinoterpercaya', 'nananguyen4321111', 'devi289', '312']\n",
    "spam += ['sejarahqqnet', 'jennymaster', '78544112544', '213', 'seniqq-com-agen-bandar-q-agen-domino-domino-99-dominoqq-agen-bandar-poker-paling-terpercaya', '1123', 'agenjudi', 'poker55', 'tuanpoker-agen-judi-poker-online-resmi-uang-asli-terpercaya-di-indonesia', '66', '008', 'sahabatkartu-com', 'rajapoker88qqseo', '12314234234', 'judisakong', '003', 'sejarahqq00', '012', 'rajapoker88', '250398e', '088', 'sboqq1', '250398c', 'jadwalqq', '112365765', '005', 'lapakqq', 'jadwalqq-top1-google', 'maxbet338', 'agensarana118', 'cobaqqbiz', 'seniqq1', 'sejarah', 'jawapoker88-agen-poker-aduq-domino99-bandarq-bandar-poker-online-terpercaya-indonesia', 'danaqq', 'vipqiuqiu999', 'borneopoker1', '12seniqq', 'qiuqiu999', '23451', 'gunungpoker', 'sboqqxagen', 'kontesseo', '99-seniqq-com-agen-bandar-q-agen-domino-domino-99-dominoqq-agen-bandar-poker-paling-terpercaya', 'sejarahqq', '100', 'agtw9-com-agen-judi-poker-bandar-q-dewa-poker-domino-dan-capsa-susun-online-terpercaya-indonesia', '4rd99', 'newsboqq', 'bandarpelangi', 'blogwonkbejho', '67f', 'jadwalqqseo25', '032', 'rajapoker88-situs-agen-judi-poker-bandar-domino-qq-online-terpercaya1', 'aseanqq-net-poker-domino-99-bandar-kiu-adu-qq-sakong', 'lapakqq-online-agen-domino-99-domino-qiu-qiu-bandar-q-online-poker-online-domino-online', 'pokerdominoqqonline', 'agenbandarsakong', 'situspokeronline', 'qiuqiu99com', '1112223', 'jawapoker88', '1jadwalqq', 'sarana99-agen-judi-domino-sakong-dan-bandarq-online-terpercaya', 'sejarahqqnet-agen-dominoqq-online-bandarq-terpercaya', 'qq99', '212211', 'qqmaniaseo', 'infojudi78', 'jadwalqq2525', '243823t', 'situslapakqq', 'daftarsitusonline', '006', 'gula-popcorn-akan-cocok-saat-anda-bermain-poker', '010', 'wongpoker', 'borneopoker', 'centralqq-net-situs-dominoqq-domino-qiu-qiu-domino99-bandarq-poker-online', 'target-seniqq-com-agen-bandar-q-agen-domino-domino-99-dominoqq-agen-bandar-poker-paling-terpercaya', '142c', '011', 'seniqqcom255', 'langitqq', '013', '015', '102', 'qqmania', 'most-popular-slot-e-games-betting-website-with-mobile-apps', '123raja', 'capsabandarqseo', 'situs-agen-judi-bandarq-online-terpercaya', '0100', '132', 'seniqq-com-agen-bandar-q-agen-domino-domino-99-dominoqq-agen-bandar-poker-terpercaya', 'agen99', 'seniqqcom-agen-bandar-q-agen-domino', 'kapalpoker', '033', 'jadwalqq-agen-poker-online-agen-domino-online-terpercaya-indonesia', '999c', 'qq', '8127', '1231', 'sboqq', 'sboqq-io-domino-99-bandarq-domino-qiu-qiu-capsa-online', 'depoqq-net-agen-bandarq-domino-qiu-qiu-aduqq-dominoqq-poker-online-indonesia', 'permainan-capsa-susun-di-agen-poker-cemarapoker-tidak-kalah-seru', 'sarana-pelangi', 'kamipoker99-com-bandar-judi-ceme-online-dan-agen-live-poker-online-terbesar-terpercaya', '201711', '212', 'lapakqqonline', 'sboqqio11', 'kemilauqqagendominoqiuqiu', 'pokerdomino', 'vipqiuqiu99', 'seniqq', 'dominohp', 'depo155', '1234', 'dominohpnet', 'dominohpnetorgcom', '250398b', 'capsabandarq11', 'kontesseoagepokerdomino', '29', 'dominohp-net-agen-poker-online-terpercaya', 'jawapoker', 'agenpoker77', 'lenterapoker-agen-bandarq-dan-bandar-sakong-online-terpercaya-di-indonesia', 'seniqq-com-agen-bandar-q-domino-99-dominoqq-bandar-poker-online-paling-terpercaya', 'vipqiuqiu99-com-agen-judi-domino-online-terpercaya-di-indonesia', 'situsdominoqqseo', 'seniqq-com-agen-bandar-q-agen-domino-domino-99-dominoqq-agen-bandar-poker-paling-terpercaya-top', 'jawapoker88-agen-poker', 'sundulclubagenbandarsakong', 'seniqq-com-agen-bandarq-domino-poker-paling-terpercaya', '123po', 'seniqqseoseo', 'seniqq-com-agen-bandar-q-domino-99-dominoqq-poker', 'sboqq-io-domino-99-agen-bandarq-domino-qiu-qiu-capsa', 'sboqq-io-domino-99-agen-bandarq-domino-qiu-qiu-capsa-online-terpercaya-indonesia', 'dewasamkong', 'borneopoker-com-bandar-poker-online-serta-bandar-q-online-terpercaya-di-indonesia', 'seniqqseo255', 'bandarjudionline', 'jawapoker88-agen-poker-aduq-domino99-bandarq-bandar-poker-online-terpercaya-di-indonesia', 'sarjanadominoqq-com-agen-poker-online-bandarq-dominoqq-domino99-qiu-qiu-terpercaya', 'qiu', '250398a', 'sboioseo', 'qiuqiu99-com-agen', 'jadwalqqseo', 'centralqq-net-situs-dominoqq-domino-qiu-qiu-99-bandarq-poker-online-terpercaya', 'bandarq365', 'depoqqseo', 'seniqqcom', '2017a', 'lapakqqseo', 'sakong', 'agenpoker1', 'rajapoker-88', 'bandarq', 'aduq', '1001', 'birpoker-com-agen-poker-capsa-domino-bandar-q-online-terbaik-indonesia-masa-kini', 'domino', 'kasqq', 'seniqq-com-agen-bandar-q-agen-domino-domino-99-dominoqq-agen-bandar-poker-paling-terpercaya1', 'bandarpoker', '123-seniqq-com-agen-bandar-q-agen-domino-domino-99-dominoqq-agen-bandar-poker-paling-terpercaya', 'capsasusun', 'agtw9', 'lapakqq987456', 'centralqq', 'kasqqseo11', 'domino99-dominoqq-domino-qiu-qiu-bandarq-qiu-qiu', 'seniqqseo', '0571', '125', 'capsabandarq-com-capsa-online-agen-bandar-q-domino-99-qiu-qiu-online-bandarq-online', 'rajaidr', 'rctiqq', '987', 'agensakong', 'lenterapoker', '148', 'kemilauqq', 'wongpoker-agen-poker-agen-domino-qq-bandar-q-bandar-domino-qiu-bandar-ceme-online-terbesar', 'capsadomino-com-agen-capsa-dominoqq-agen-domino-bandar-sakong-bandarq-online-indonesia', 'seniqqseo25', 'tokotoke2', 'langitqq25', '498', 'vbandar99', '0254', 'jadwalqq25', 'rajapoker88qqseo25', 'capsabandarq-com-capsa-online-agen-bandar-q-domino-99-qiu-qiu-online-bandarq', 'vipqiuqiu99seo', 'sboqq-io-domino-99-agen-bandarq-domino-qiu-qiu-capsa-online', '6dewa-agen-judi-sakong-bandarq-domino99-capsa-susun-bandar-poker-indonesia-terpercaya', 'wongpoker-agen-poker-agen-domino-qq-bandar-q-bandar-domino-qiu-bandar-ceme-online', 'bergabung_dengan_divaqq', 'gunungpoker-poker', 'seribusatuseo-1', '6bola-agen-judi-bola-kasino-togel-poker-number-game-3d-sabung-ayam-indonesia', 'qiuqiu99-com-agen-judi-domino-online-terpercaya-di-indonesia-mantap', 'borneopoker-bandar-poker-online-serta-bandar-q-online-terpercaya-di-indonesia', 'sboqqdotioagenbandardomino99', 'jadwalqq-agen-poker-online-agen-domino-online-terpercaya', 'seniqq-com-agen-bandar-q-agen-domino-domino-99', 'kontes-seo-terbaru-2017', '1345', 'sarana999', 'judi', 'nananguyen4321', '6dewa-agen-judi-sakong-bandarq-domino99-capsa-susun-bandar-poker-indonesia', 'rctiqq-com-agen-judi-poker-dominoqq-bandarq-online-terpercaya-indonesia', 'wongbejoq', 'qiuqiu9999', 'sarana99seo', 'agenbandarqqkasqq', 'seniqqseo2017', 'kontes-seo-capsabandarq', '547c', 'qiuqiu99-com-agen-judi-domino-online-terpercaya-di-indonesia', 'seniqqcom25', '1-jadwalqq', 'seniqq-com', 'sejarahqq-com', 'optimasi-seniqq', 'rajapoker88-situs-agen-judi-poker-bandar-domino-qq-online-terpercaya-indonesia', 'vbandar-agen-remi9-judi-sakong-bandar-poker-online-indonesia', 'centralqq-net-situs-dominoqq-domino-qiu-qiu-domino-99-bandarq-poker-online-terpercaya', 'jadwalqq-agen-poker-online-agen-domino-online-terpercaya-kontes-seo', 'kartubos', 'kartuboss', 'agen-bandarqbandarq-onlinebandarq-online-terpercayasitus-bandarqsitus-pokerpoker-uang-aslisitus-judi', 'vipqiuqiu99com', 'gunungpoker-poker-bandar-q-bandarqq-domino-99-dominoqq-bandar-q-bandar-poker-paling-terpercaya', 'wongpokerseo', '176q', 'jadwalqqseolink', 'jadwalqq-agen-poker-online', 'jadwalqqdevi289', 'jawapoker88-agen-poker-aduq-domino99-bandarq-bandar-poker', 'seniqq-com-agen-bandarq-domino', 'capsadomino']\n",
    "spam += ['togelhongkong100', 'pendetaseo3', 'bandartogel', 'angkaseo', 'pendetaseo', 'togelonline', 'pendetaseo4', 'initogel']\n",
    "spam += ['014a', '12321', 'icaneducationconsultant', 'gethighqualitycustomlapelpinsfromcreativedesigners', 'adultdiaperrash', 'veherba', '023', '123124343', 'ultrasonic-facial-machine', 'mooremike012', 'vipqiuqiu99seolink', '548i', 'cartitleloanscanada', 'benefits-of-utilising-digital-marketing-strategies', 'propertyforsaleinfuengirola', 'realestatefuengirola', 'apartmentsforsalefuengirola', '99qiuqiu', 'best-benefits-of-utilising-facebook-advertising', 'saranaseo', '2321', 'review2', 'best-facial-machine', 'search-engine-optimization', '129a', 'caramenghilangkanjerawat', 'alleppeyhouseboat', '067', '099', 'when-to-consider-hiring-a-third-party-developer-for-your-ecommerce-website', '096', 'sboqq-io-domino-99-agen-bandarq-domino-qiu-qiu-capsa-online-terpercaya', 'qiuqiu99', 'jalan-menuju-kemenangan-terbaik-saat-bermain-bola', '567a', 'produsenkosmetik', 'betsiteinfo', 'vipqiuqiu99com-agen-judi-domino-online-terpercaya-di-indonesia', 'sarana99-judi-domino-sakong-dan-bandarq-onlin-terpercaya', 'kemilauqq-agen-domino-qiuqiu-dan-bandar-sakong-online-terpercaya-di-indonesia', 'sayangseo-10', 'situssejarahqq', 'tokotoke', 'qiuqiu99seocom', '435', 'myassigment', '0143', '1423', 'vipqiuqiu99-com', 'qiuqiu99-com']\n",
    "spam += ['danaqq-com-situs-bandarq-online-domino-99-online-indonesia', '095', 'qq368111', 'situsonline', 'danaqq1', '2476', 'thethaovn288', 'nhan-dinh-du-doan-soi-keo-deportivo-la-coruna-vs-real-betis', 'hoavokhuyet', 'domino-99-domino-qq-domino-qiu-qiu-bandarq-qiu-qiu', 'slot-e-games-website', 'one-of-the-best-online-bookmaker-in-asia-with-live-streaming-and-live-score', 'web']\n",
    "spam += ['update-info', 'scott', 'gambarbijak', '10adspayreview', 'baju-couple-muslim', 'fonudthebestseoservice', 'mutiarabola', 'rajasayang', 'investasiapartemen', 'optimisasiweb', 'rajaiklanbola', 'restoranbola', 'sekalijadi', 'rajabanner', 'rajaiklan', 'sas3232', 'caramenurunkanberatbadan', 'pendidikan-rakyat-timor-leste', 'cipto-junaedy-pertapantrik', 'jasaseotokoonlineterbaikdanberkualitasmantap', 'truk', 'investasiapartemendisignatureparkgrande', '222', 'obatperangsangwanita', 'caramencuciemas', 'jasaseolistajihan', '3426', 'indentik-bola-andalah-memberikan-pelayanan-terbaik', 'madu-subur-max-herbal-penyubur-reaksi-cepat', 'seokonsultanindonesia', '15021994', 'konsultanseotopone', 'masroe', 'katakatabijak', 'niatpuasaseninkamis', 'layananjasaseo', 'madusuburmaxherbal',]\n",
    "spam += ['larisla','pancasonaiklan','dukunsantetmematikan','ratuiklanbola', 'rajalink', 'prptraining', 'obatlibido', 'review5', 'obat', 'jkt1', 'badcreditsmallbusinessloanscanada', 'sellingahousewithoutarealtor', 'walilimo', 'samuelgregory', '3425', 'interior',]\n",
    "spam += ['homebuilderchattanooga', 'nursing-essays', 'dissertationhelpuk', 'online-essay-help-service-uk', 'alexjuvion', 'alyssapatterson', 'dissertation-writer', 'assignment-service', 'assignment-writer-uk', 'jasapenyewaantruk', 'eduappscoid-soal-ujian-nasional', 'informasihiburan-duniapendidikan-kecantikan-terbaik-dijakarta', 'tipsmemilihtrukterpercaya', 'dakwah', 'relasiana', 'best-laptops-for-students', 'best-college-backpack-for-girls', 'rajarentalpontianak', 'rajabanner1', 'rajaiklan1', 'rajalink1', 'baju-muslim-couple', ]\n",
    "spam += ['66905', 'pipeworkfabrication', 'pipefabrication', 'incontinenceproductsaustralia', 'lauren', 'josmadi', 'centraliklanbola', 'iklanbolaterbaik', 'jasaiklanbola', '2340', 'flipjupiter',]\n",
    "spam += ['231', '234t', '2341', '2347', '45degreehelixendmills', '7004', '201094', '2010988', '126790', '2017x', '2344', '212100', '2346', '123', '2342', '2343', '2345', '0102', '1224', '12333',]\n",
    "spam += ['facial-machine-laptop', 'best-products-review', 'waxingglasgow', 'chiropractorjacksonvillefl', 'best-tankless-water-heater', 'chiropractorinjacksonville', 'laptop-backpack-bag', 'best-affordable-laptop',]\n",
    "spam += ['info-pariwisata-nusa-tenggara-timur', 'curate', 'sakitpinggang', 'bookmaker', 'consolidatingstudentloans', 'reversemortgageprogram', 'how-you-can-fit-car-accessories-in-your-budget', 'arranging-your-perfect-vacation', 'markdagelpwb', 'cochintour', 'funeral-ditectors-melbourne',]\n",
    "spam += ['obat-perangsang-wanita', 'jualabatperangsang', 'fresatriceagricola']\n",
    "spam += ['sashwindowlocks', 'petlockofferingpremiumproductstocontrolfleasandticksondogs', 'fresatriceagricola', 'vertmtreats', 'alcoholfreehandsanitizer', 'arthritiscream', 'hipstersunglasses', 'coldchainsolutions', 'anchorbracelet', 'cateringequipmentuk', 'mooremike535', 'betterbodies', 'pipeworkcontractors', 'getmorefollowers', 'boisemountain', 'towtruckcompany', 'teethwhiteningstrips', 'cornerradiusendmills', 'taperedendmills', 'windowtintingdallas', 'freestandingpullupbar', 'lethbridgeankleligamentbrace', 'innovationstv', 'mmashorts', 'olatheroofingcompanies', 'usedmotorcycles', 'coffeefranchise', 'pool-renovation-denver', 'online-indian-ethnic-wear', 'shopping', 'four-essential-things-to-do-before-a-workout', 'obat-perangsang-wanita', 'jualabatperangsang', 'obatasamuratyangmanjurdanalami', 'jual_obat_kuat_cialis', 'infokes', 'katakatamotivasi', 'jualabatperangsang', 'qncjellygamatherbal','sepeda', 'wwwnhandinhbongdasonet', 'lskk', 'pengapunganbola', 'merawat-jam-digital',\n",
    "]\n",
    "spam += ['lifecoachingnj', 'cara-mengatasi-anyang-anyangan', 'essays-sos', 'shoulderpainexercises', 'samuelgreg82', 'petgrass', 'chiropractorboise', 'essay-reviews', 'isacmildenberg', 'photoscanningdevice', 'upfclothing', 'open-literature-reviews', 'lorenisrael', 'motorcycleracingsuits', 'isaacmildemberg', 'promoteinstagramfollowers', 'securityguardsbristol',]\n",
    "spam += ['lavorosvizzera', 'christiancards', 'tattooartistbelgium', 'travelling-with-your-baby', 'essay444', 'christianadventcalendar', 'ultrapremiumvodka', 'angellily', 'onlineflowersdeliveryinkolkata', 'professionalvirtualassistants', 'chiropractorjacksonville', 'useful-tips-on-maintaining-your-vehicle-in-the-proper-way', 'dentalbridgeimplant', 'newyorkchiropractor', 'what-are-the-steps-to-take-when-a-loved-one-passes-away', 'chicagofamilyphotographer', 'tipskesehatan', 'cosmeticdentistrytexas', 'bleedingdisordersstlouis', 'angellily', 'useful-tips-on-maintaining-your-vehicle-in-the-proper-way', 'midcitydentistry', 'ultrapremiumvodka',]\n",
    "spam += ['essay', 'desktopcharger', 'essaywritingservice', 'chicagobridalshowervenues', 'biketourscentralpark', 'small-business-lawyers-are-a-must-have', 'lookingforasuitwhatyoushouldknow', 'three-steps-to-look-good-on-a-bike', 'kitchen-scale', 'fallenride', '-', 'small-business-lawyers-are-a-must-have', 'gina', 'christiansbelieve', 'innovationstvseries', 'isaacmildenberg', 'voucher-codes','home-care-in-tampa', 'online-shopping', 'webdesignerprojects', 'carolinewebb', 'innovationsseries', 'three-things-to-know-if-you-want-your-storage-safe', 'test', 'chicagokidsphotographer', 'myntra', 'sample-community', 'robinbanks',]\n",
    "spam += ['wedphoto', 'plasticicebags', 'promoocodes', 'innovationstvscam', 'coverlettertemplateexamples', 'loveletterexamples', 'test-customer', 'women_fashion_attires', 'faxcoversheet', 'shabdaclinic', 'coverlettertemplateexamples',\n",
    "]\n",
    "spam += ['best-meat-slicer', 'merchantusa', 'markrdagelintergovernmental', 'markrdagelintergovernmentalrenewableenergyorganization',]\n"
   ]
  },
  {
   "cell_type": "code",
   "execution_count": 416,
   "metadata": {},
   "outputs": [
    {
     "data": {
      "text/plain": [
       "660"
      ]
     },
     "execution_count": 416,
     "metadata": {},
     "output_type": "execute_result"
    }
   ],
   "source": [
    "len(set(spam))"
   ]
  },
  {
   "cell_type": "code",
   "execution_count": 417,
   "metadata": {
    "collapsed": true
   },
   "outputs": [],
   "source": [
    "non_spam = [\n",
    "    'biomeachanics',\n",
    "    'aibasel',\n",
    "    'organicworld',\n",
    "    'aquainvad-ed',\n",
    "    'rage-wp8',\n",
    "    'gromos-ckp',\n",
    "    'fp7-ict-armor',\n",
    "    'dhinlibraries',\n",
    "    'wpge',\n",
    "    'petapromise',\n",
    "    'cfa-history',\n",
    "    'dlr',\n",
    "    'inraa1',\n",
    "    'gaiasprint-nyc',\n",
    "    'lnec',\n",
    "    'cig',\n",
    "    'casbs',\n",
    "    'william_p_gilks',\n",
    "    'smarts-lab',\n",
    "    'eths',\n",
    "    'tera-promise',\n",
    "    'nioz',\n",
    "    'datamed-dats',\n",
    "    'aac-library-collections-as-data',\n",
    "    'starcell',\n",
    "    'bwg',\n",
    "    'ulst',\n",
    "    'coroma',\n",
    "    'arukce',\n",
    "    'lshtm',\n",
    "    'lshtm1',\n",
    "    'elis',\n",
    "    'romemp',\n",
    "    'wedraw',\n",
    "]"
   ]
  },
  {
   "cell_type": "code",
   "execution_count": 418,
   "metadata": {
    "collapsed": true
   },
   "outputs": [],
   "source": [
    "from copy import deepcopy\n",
    "X = []\n",
    "for d in data:\n",
    "    x = deepcopy(d)\n",
    "    if x['id'] in spam:\n",
    "        x['spam'] = True\n",
    "    elif x['deleted_at'] != 'None' and x['id'] not in non_spam:\n",
    "        x['spam'] = True\n",
    "    else:\n",
    "        x['spam'] = False\n",
    "    X.append(x)\n",
    "y = [d['spam'] for d in X]"
   ]
  },
  {
   "cell_type": "code",
   "execution_count": 422,
   "metadata": {},
   "outputs": [],
   "source": [
    "spammers = dict((x['id_user'], x['id']) for x in X if x['spam'])"
   ]
  },
  {
   "cell_type": "code",
   "execution_count": 430,
   "metadata": {},
   "outputs": [],
   "source": [
    "spams = sorted(Counter(x['id_user'] for x in X if x['spam']).items(), key=lambda x:x[1], reverse=True)"
   ]
  },
  {
   "cell_type": "code",
   "execution_count": 431,
   "metadata": {},
   "outputs": [
    {
     "data": {
      "text/plain": [
       "[(23672, 66),\n",
       " (29793, 48),\n",
       " (30688, 40),\n",
       " (26793, 31),\n",
       " (23644, 30),\n",
       " (30308, 27),\n",
       " (30425, 27),\n",
       " (28534, 20),\n",
       " (27249, 19),\n",
       " (28906, 18),\n",
       " (30615, 16),\n",
       " (32321, 12),\n",
       " (31085, 9),\n",
       " (27044, 9),\n",
       " (31094, 9),\n",
       " (31498, 9),\n",
       " (30394, 9),\n",
       " (27043, 7),\n",
       " (27392, 7),\n",
       " (31134, 6),\n",
       " (26917, 5),\n",
       " (30930, 5),\n",
       " (26996, 5),\n",
       " (30766, 5),\n",
       " (30111, 4),\n",
       " (30477, 4),\n",
       " (26920, 4),\n",
       " (29536, 4),\n",
       " (28488, 3),\n",
       " (19700, 3)]"
      ]
     },
     "execution_count": 431,
     "metadata": {},
     "output_type": "execute_result"
    }
   ],
   "source": [
    "spams[:30]"
   ]
  },
  {
   "cell_type": "markdown",
   "metadata": {},
   "source": [
    "### Looking for spam manually"
   ]
  },
  {
   "cell_type": "code",
   "execution_count": null,
   "metadata": {},
   "outputs": [],
   "source": [
    "X_maybespam = [x for x in X if not x['spam'] and x['id'][0] in [str(n) for n in list(range(10))]]\n",
    "print(len(X_maybespam))"
   ]
  },
  {
   "cell_type": "code",
   "execution_count": null,
   "metadata": {},
   "outputs": [],
   "source": [
    "X_maybespam = [x for x in X if not x['spam'] and\n",
    "               any('products' in desc for desc in\n",
    "                   (x[t].lower() for t in ('page', 'description', 'title', 'curation_policy')))]\n",
    "\n",
    "print(len(X_maybespam))"
   ]
  },
  {
   "cell_type": "code",
   "execution_count": null,
   "metadata": {},
   "outputs": [],
   "source": [
    "new_spam_ids = [x['id'] for x in X_maybespam]\n",
    "print(new_spam_ids)"
   ]
  },
  {
   "cell_type": "code",
   "execution_count": null,
   "metadata": {
    "collapsed": true
   },
   "outputs": [],
   "source": [
    "for x in X_maybespam:\n",
    "    print(\"{0}\\n {1}\\n {2}\\n {3}\\n {4}\\n\\n\\n\\n\\n\\n@@@@@@\\n@@@@@@\\n@@@@@@\\n@@@@@@\\n@@@@@@\\n\\n\\n\\n\\n\".format(*[x[t] for t in ['id', 'title', 'description', 'page', 'curation_policy']]))"
   ]
  },
  {
   "cell_type": "markdown",
   "metadata": {},
   "source": [
    "### Train the model"
   ]
  },
  {
   "cell_type": "code",
   "execution_count": 376,
   "metadata": {},
   "outputs": [
    {
     "data": {
      "text/plain": [
       "Counter({(False, False): 389,\n",
       "         (False, True): 4,\n",
       "         (True, False): 5,\n",
       "         (True, True): 287})"
      ]
     },
     "execution_count": 376,
     "metadata": {},
     "output_type": "execute_result"
    }
   ],
   "source": [
    "#X_train_full, X_test_full, y_train, y_test = train_test_split(X, y, test_size=0.33, random_state=72)\n",
    "X_train_full, X_test_full, y_train, y_test = train_test_split(X, y, test_size=0.33)\n",
    "\n",
    "def feat_tr(d):\n",
    "    return d['description'] + d['title'] + d['curation_policy'] + d['page']\n",
    "\n",
    "X_train = [feat_tr(d) for d in X_train_full]\n",
    "X_test = [feat_tr(d) for d in X_test_full]\n",
    "X_train_spam = [feat_tr(d) for d in X_train_full if d['spam']]\n",
    "ngram_range=(1, 1)\n",
    "count_vect = CountVectorizer(ngram_range=ngram_range)\n",
    "X_train_counts_spam = count_vect.fit_transform(X_train_spam)\n",
    "\n",
    "# Select vocabulary\n",
    "#spam_vocabulary = count_vect.vocabulary_\n",
    "spam_vocabulary = None\n",
    "\n",
    "text_clf = Pipeline([('vect', CountVectorizer(vocabulary=spam_vocabulary, ngram_range=ngram_range)),\n",
    "                     ('tfidf', TfidfTransformer()),\n",
    "                     #('clf', MultinomialNB()),\n",
    "                     ('clf', SGDClassifier(loss='hinge', penalty='l2', alpha=1e-3, n_iter=5, random_state=42)),\n",
    "                     #('clf', SGDClassifier(loss='hinge', penalty='l2', alpha=1e-3, n_iter=5, random_state=42)),\n",
    "                    ])\n",
    "                     \n",
    "text_clf = text_clf.fit(X_train, y_train)\n",
    "y_pred = text_clf.predict(X_test)\n",
    "acc = [(ref, pred) for ref, pred in zip(y_test, y_pred)]\n",
    "Counter(acc)"
   ]
  },
  {
   "cell_type": "code",
   "execution_count": 377,
   "metadata": {},
   "outputs": [],
   "source": [
    "acc = [idx for idx, (ref, pred) in enumerate(zip(y_test, y_pred)) if (ref, pred) == (False, True)]\n",
    "spammy_stuff = [(X_test_full[idx]['id'], X_test_full[idx]['title'], X_test_full[idx]['description']) for idx in acc]"
   ]
  },
  {
   "cell_type": "code",
   "execution_count": null,
   "metadata": {},
   "outputs": [],
   "source": [
    "spammy_stuff"
   ]
  },
  {
   "cell_type": "markdown",
   "metadata": {},
   "source": [
    "### KFold/LOO"
   ]
  },
  {
   "cell_type": "code",
   "execution_count": 409,
   "metadata": {},
   "outputs": [],
   "source": [
    "from sklearn.model_selection import LeaveOneOut, KFold\n",
    "\n",
    "#msel = LeaveOneOut()\n",
    "msel = KFold(n_splits=300)\n",
    "res = []\n",
    "for train_idx, test_idx in msel.split(X):\n",
    "    \n",
    "    X_train_full = [X[idx] for idx in list(train_idx)]\n",
    "    y_train = [y[idx] for idx in list(train_idx)]\n",
    "\n",
    "    X_test_full = [X[idx] for idx in list(test_idx)]\n",
    "    y_test = [y[idx] for idx in list(test_idx)]    \n",
    "\n",
    "    def feat_tr(d):\n",
    "        return d['description'] + d['title'] + d['curation_policy'] + d['page']\n",
    "\n",
    "    X_train = [feat_tr(d) for d in X_train_full]\n",
    "    X_test = [feat_tr(d) for d in X_test_full]\n",
    "    X_train_spam = [feat_tr(d) for d in X_train_full if d['spam']]\n",
    "    ngram_range=(1, 1)\n",
    "    count_vect = CountVectorizer(ngram_range=ngram_range)\n",
    "    X_train_counts_spam = count_vect.fit_transform(X_train_spam)\n",
    "\n",
    "    # Select vocabulary\n",
    "    #spam_vocabulary = count_vect.vocabulary_\n",
    "    spam_vocabulary = None\n",
    "\n",
    "    text_clf = Pipeline([('vect', CountVectorizer(vocabulary=spam_vocabulary, ngram_range=ngram_range)),\n",
    "                         ('tfidf', TfidfTransformer()),\n",
    "                         #('clf', MultinomialNB()),\n",
    "                         ('clf', SGDClassifier(loss='hinge', penalty='l2', alpha=1e-3, n_iter=5, random_state=42)),\n",
    "                         #('clf', SGDClassifier(loss='hinge', penalty='l2', alpha=1e-3, n_iter=5, random_state=42)),\n",
    "                        ])\n",
    "\n",
    "    text_clf = text_clf.fit(X_train, y_train)\n",
    "    y_pred = text_clf.predict(X_test)\n",
    "    res.extend(y_pred)"
   ]
  },
  {
   "cell_type": "code",
   "execution_count": 410,
   "metadata": {},
   "outputs": [
    {
     "data": {
      "text/plain": [
       "Counter({(False, False): 1168,\n",
       "         (False, True): 7,\n",
       "         (True, False): 26,\n",
       "         (True, True): 872})"
      ]
     },
     "execution_count": 410,
     "metadata": {},
     "output_type": "execute_result"
    }
   ],
   "source": [
    "acc = [(ref, pred) for ref, pred in zip(y, res)]\n",
    "Counter(acc)"
   ]
  },
  {
   "cell_type": "markdown",
   "metadata": {},
   "source": [
    "## Average accuracy\n",
    "\n",
    "NonSpam -> Spam  99.4% accuracy\n",
    "\n",
    "Spam -> NonSpam  # 97.1% accuracy\n",
    "   "
   ]
  },
  {
   "cell_type": "code",
   "execution_count": 413,
   "metadata": {
    "collapsed": true
   },
   "outputs": [],
   "source": [
    "acc = [idx for idx, (ref, pred) in enumerate(zip(y, res)) if (ref, pred) == (True, False)]\n",
    "spammy_stuff = [(X[idx]['id'], X[idx]['title'], X[idx]['description']) for idx in acc]"
   ]
  },
  {
   "cell_type": "code",
   "execution_count": null,
   "metadata": {},
   "outputs": [],
   "source": [
    "spammy_stuff"
   ]
  },
  {
   "cell_type": "markdown",
   "metadata": {},
   "source": [
    "### Serialize the model"
   ]
  },
  {
   "cell_type": "code",
   "execution_count": null,
   "metadata": {},
   "outputs": [],
   "source": [
    "from sklearn.externals import joblib\n",
    "joblib.dump(text_clf, '2017_06_15_communities_spam.pkl') "
   ]
  }
 ],
 "metadata": {
  "kernelspec": {
   "display_name": "Python 3",
   "language": "python",
   "name": "python3"
  },
  "language_info": {
   "codemirror_mode": {
    "name": "ipython",
    "version": 3
   },
   "file_extension": ".py",
   "mimetype": "text/x-python",
   "name": "python",
   "nbconvert_exporter": "python",
   "pygments_lexer": "ipython3",
   "version": "3.6.0"
  }
 },
 "nbformat": 4,
 "nbformat_minor": 2
}
